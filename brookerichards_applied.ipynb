{
 "cells": [
  {
   "cell_type": "code",
   "execution_count": null,
   "metadata": {},
   "outputs": [],
   "source": [
    "# datafun-07-applied \n",
    "\n",
    "# Brooke Richards 6/9/2024\n",
    "\n",
    "# In this project I will build a model, make predictions, visualize the model and publish my insights."
   ]
  }
 ],
 "metadata": {
  "language_info": {
   "name": "python"
  }
 },
 "nbformat": 4,
 "nbformat_minor": 2
}
